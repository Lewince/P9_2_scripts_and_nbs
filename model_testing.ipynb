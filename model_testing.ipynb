{
 "cells": [
  {
   "cell_type": "markdown",
   "id": "9d01eb16-8afc-482e-83bb-130a50d00afd",
   "metadata": {},
   "source": [
    "# Projet 9 - My Content - systèmes de recommandation\n",
    "<br>nb : les classes développées dans les scripts fournis sont ré-écrites pour information dans certaines cellules de ce document - il est naturellement prévu de les appeler depuis leur fichier .py et d'en utiliser les fonctions et attributs, leur code apparaît ici uniquement pour des raisons didactiques. <br>\n",
    "### [I : Import et prétraitements](#partie_1)\n",
    "### [II - Classe d'évaluation des algorithmes de recommandation par le recall](#partie_2)\n",
    "### [III - Evaluation du recommender content-based](#partie_3)\n",
    "### [IV - Evaluation du collaborative filtering](#partie_4)\n",
    "### [V - Popularity rating](#partie_5)"
   ]
  },
  {
   "cell_type": "markdown",
   "id": "ae6692f0-c777-4786-8d78-4f4938587521",
   "metadata": {},
   "source": [
    "<br><a id='partie_1'></a><br>\n",
    "### I - Imports et prétraitements : <br>"
   ]
  },
  {
   "cell_type": "code",
   "execution_count": 7,
   "id": "f0b1d3cb-77de-4bb7-855c-aef53730a9f5",
   "metadata": {},
   "outputs": [],
   "source": [
    "import warnings\n",
    "warnings.filterwarnings('ignore')"
   ]
  },
  {
   "cell_type": "code",
   "execution_count": 42,
   "id": "5fc69782-f189-4663-aaf5-ad0272a55712",
   "metadata": {},
   "outputs": [],
   "source": [
    "# from importlib import reload\n",
    "# reload(Content_based_recommender.CBF_Recommender())"
   ]
  },
  {
   "cell_type": "code",
   "execution_count": 2,
   "id": "c543fde4-38b5-48af-a19a-f198c25888ba",
   "metadata": {},
   "outputs": [],
   "source": [
    "%run loader.py"
   ]
  },
  {
   "cell_type": "code",
   "execution_count": 2,
   "id": "7af3f0ff-2231-4208-b6ee-c3d44439ea20",
   "metadata": {},
   "outputs": [
    {
     "data": {
      "text/plain": [
       "array([0, 1, 2, ..., 322894, 322895, 322896], dtype=object)"
      ]
     },
     "execution_count": 2,
     "metadata": {},
     "output_type": "execute_result"
    }
   ],
   "source": [
    "initial_clicks_db.user_id.unique()"
   ]
  },
  {
   "cell_type": "markdown",
   "id": "a26b83cd-003e-4dca-93d8-1a9ccbf2f951",
   "metadata": {},
   "source": [
    "Filtrage des utilisateurs sur la base du nombre d'interactions, puis échantillonnage de la moitié des id : "
   ]
  },
  {
   "cell_type": "code",
   "execution_count": 3,
   "id": "831180e3-8d0f-42f3-b314-79df566c7b39",
   "metadata": {},
   "outputs": [],
   "source": [
    "# Minimum required number of interactions per user\n",
    "threshold = 3\n",
    "# Interactions count per user\n",
    "vc = initial_clicks_db.user_id.value_counts()\n",
    "# Keeping ids above interactions threshold\n",
    "vc = vc[vc>=threshold]\n",
    "# converting series to list\n",
    "ids_with_at_least_n_clicks = vc.index.tolist()"
   ]
  },
  {
   "cell_type": "code",
   "execution_count": 4,
   "id": "f2b6b5ca-35e6-4d44-9273-9df0f9cc90e8",
   "metadata": {},
   "outputs": [],
   "source": [
    "import random\n",
    "# Create filtered base df\n",
    "filtered_initial_clicks_db = initial_clicks_db[initial_clicks_db.user_id.isin(ids_with_at_least_n_clicks)]\n",
    "filtered_user_ids = filtered_initial_clicks_db.user_id.unique().tolist()\n",
    "# Split data randomly : \n",
    "excluded_user_ids = random.sample(filtered_user_ids, len(filtered_user_ids)//2 )\n",
    "leftover_data = filtered_initial_clicks_db[filtered_initial_clicks_db.user_id.isin(excluded_user_ids)]\n",
    "filtered_initial_clicks_db = filtered_initial_clicks_db[~filtered_initial_clicks_db.user_id.isin(excluded_user_ids)]\n",
    "# Recreate dependant tables : \n",
    "filtered_clicks_db = filtered_initial_clicks_db.set_index('user_id').sort_index(ascending=True)\n",
    "filtered_dup_list = filtered_initial_clicks_db.duplicated(subset=['user_id','click_article_id'])"
   ]
  },
  {
   "cell_type": "markdown",
   "id": "237b5bff-3b76-4e37-96c8-8e084c749cfa",
   "metadata": {},
   "source": [
    "Vérification des dimensions des 2 tableaux obtenus : "
   ]
  },
  {
   "cell_type": "code",
   "execution_count": 5,
   "id": "c4aa1075-69c4-4c7f-93b8-8ee43c79b6e4",
   "metadata": {},
   "outputs": [
    {
     "data": {
      "text/plain": [
       "(1393039, 12)"
      ]
     },
     "execution_count": 5,
     "metadata": {},
     "output_type": "execute_result"
    }
   ],
   "source": [
    "leftover_data.shape"
   ]
  },
  {
   "cell_type": "code",
   "execution_count": 6,
   "id": "e5551575-0e20-4ea4-a6e1-b82fc9c16888",
   "metadata": {},
   "outputs": [
    {
     "data": {
      "text/plain": [
       "(1392286, 12)"
      ]
     },
     "execution_count": 6,
     "metadata": {},
     "output_type": "execute_result"
    }
   ],
   "source": [
    "filtered_initial_clicks_db.shape"
   ]
  },
  {
   "cell_type": "markdown",
   "id": "4b911754-4879-464a-8ab0-2b18ceaa7824",
   "metadata": {},
   "source": [
    "Niveaux de consommations des utilisateurs et doublons, pour information - résultat actuel sur données non filtrées : "
   ]
  },
  {
   "cell_type": "code",
   "execution_count": 22,
   "id": "02b0872e-490b-4186-89fa-4358c38ecc66",
   "metadata": {},
   "outputs": [
    {
     "data": {
      "text/html": [
       "<div>\n",
       "<style scoped>\n",
       "    .dataframe tbody tr th:only-of-type {\n",
       "        vertical-align: middle;\n",
       "    }\n",
       "\n",
       "    .dataframe tbody tr th {\n",
       "        vertical-align: top;\n",
       "    }\n",
       "\n",
       "    .dataframe thead th {\n",
       "        text-align: right;\n",
       "    }\n",
       "</style>\n",
       "<table border=\"1\" class=\"dataframe\">\n",
       "  <thead>\n",
       "    <tr style=\"text-align: right;\">\n",
       "      <th></th>\n",
       "      <th>Number_of_users_having_consumed_n_articles</th>\n",
       "    </tr>\n",
       "    <tr>\n",
       "      <th>Articles_consumed (n)</th>\n",
       "      <th></th>\n",
       "    </tr>\n",
       "  </thead>\n",
       "  <tbody>\n",
       "    <tr>\n",
       "      <th>6</th>\n",
       "      <td>4843</td>\n",
       "    </tr>\n",
       "    <tr>\n",
       "      <th>8</th>\n",
       "      <td>3616</td>\n",
       "    </tr>\n",
       "    <tr>\n",
       "      <th>5</th>\n",
       "      <td>3201</td>\n",
       "    </tr>\n",
       "    <tr>\n",
       "      <th>7</th>\n",
       "      <td>3166</td>\n",
       "    </tr>\n",
       "    <tr>\n",
       "      <th>9</th>\n",
       "      <td>2846</td>\n",
       "    </tr>\n",
       "    <tr>\n",
       "      <th>...</th>\n",
       "      <td>...</td>\n",
       "    </tr>\n",
       "    <tr>\n",
       "      <th>264</th>\n",
       "      <td>1</td>\n",
       "    </tr>\n",
       "    <tr>\n",
       "      <th>263</th>\n",
       "      <td>1</td>\n",
       "    </tr>\n",
       "    <tr>\n",
       "      <th>257</th>\n",
       "      <td>1</td>\n",
       "    </tr>\n",
       "    <tr>\n",
       "      <th>255</th>\n",
       "      <td>1</td>\n",
       "    </tr>\n",
       "    <tr>\n",
       "      <th>1232</th>\n",
       "      <td>1</td>\n",
       "    </tr>\n",
       "  </tbody>\n",
       "</table>\n",
       "<p>295 rows × 1 columns</p>\n",
       "</div>"
      ],
      "text/plain": [
       "                       Number_of_users_having_consumed_n_articles\n",
       "Articles_consumed (n)                                            \n",
       "6                                                            4843\n",
       "8                                                            3616\n",
       "5                                                            3201\n",
       "7                                                            3166\n",
       "9                                                            2846\n",
       "...                                                           ...\n",
       "264                                                             1\n",
       "263                                                             1\n",
       "257                                                             1\n",
       "255                                                             1\n",
       "1232                                                            1\n",
       "\n",
       "[295 rows x 1 columns]"
      ]
     },
     "execution_count": 22,
     "metadata": {},
     "output_type": "execute_result"
    }
   ],
   "source": [
    "article_consumptions = initial_clicks_db.loc[:,['user_id','click_article_id']].groupby('user_id').agg('count')\n",
    "article_consumptions = pd.DataFrame(article_consumptions.value_counts()).rename(columns={0: 'Number_of_users_having_consumed_n_articles'})\n",
    "article_consumptions.index.names = ['Articles_consumed (n)']\n",
    "article_consumptions"
   ]
  },
  {
   "cell_type": "code",
   "execution_count": 11,
   "id": "9e51f8d9-79a1-42b3-b96d-8ffb0c7775c5",
   "metadata": {},
   "outputs": [
    {
     "data": {
      "text/plain": [
       "0          False\n",
       "1          False\n",
       "2          False\n",
       "3          False\n",
       "4          False\n",
       "           ...  \n",
       "2988176    False\n",
       "2988177    False\n",
       "2988178    False\n",
       "2988179    False\n",
       "2988180    False\n",
       "Length: 2988181, dtype: bool"
      ]
     },
     "execution_count": 11,
     "metadata": {},
     "output_type": "execute_result"
    }
   ],
   "source": [
    "dup_list"
   ]
  },
  {
   "cell_type": "markdown",
   "id": "fe69eeb6-a6f7-49b4-b3a6-68712775fe80",
   "metadata": {},
   "source": [
    "<br><a id='partie_2'></a><br>\n",
    "## II - Classe d'évaluation des algorithmes de recommandation par le recall : <br>"
   ]
  },
  {
   "cell_type": "code",
   "execution_count": 112,
   "id": "1b629c35-3ee4-4448-a6c4-8cf0d4abb2c0",
   "metadata": {},
   "outputs": [],
   "source": [
    "from sklearn.model_selection import train_test_split\n",
    "import random\n",
    "from IPython.display import clear_output\n",
    "\n",
    "EVAL_RANDOM_SAMPLE_NON_INTERACTED_ITEMS = 100\n",
    "\n",
    "def get_items_interacted(user_id, clicks_db):\n",
    "    interacted_items = clicks_db.loc[user_id]['click_article_id']\n",
    "    return set(interacted_items if type(interacted_items) == pd.Series else [interacted_items])\n",
    "\n",
    "class ModelEvaluation:\n",
    "    \n",
    "    def __init__(self, clicks_df_full, trainset, testset, article_features_df): \n",
    "        self.user_indexed_full_df = clicks_df_full\n",
    "        self.articles_df=article_features_df\n",
    "        self.user_indexed_train_df = trainset\n",
    "        self.user_indexed_test_df = testset\n",
    "        \n",
    "    def get_not_interacted_items_sample(self, user_id, sample_size, seed=42):\n",
    "        interacted_items = get_items_interacted(user_id, self.user_indexed_full_df)\n",
    "        all_items = set(self.articles_df.index)\n",
    "        non_interacted_items = all_items - interacted_items\n",
    "        random.seed(seed)\n",
    "        non_interacted_items_sample = random.sample(non_interacted_items, sample_size)\n",
    "        return set(non_interacted_items_sample)\n",
    "\n",
    "    def _verify_hit_top_n(self, item_id, recommended_items, top_n):        \n",
    "            try:\n",
    "                index = next(i for i, c in enumerate(recommended_items) if c == item_id)\n",
    "            except:\n",
    "                index = -1\n",
    "            hit = int(index in range(0, top_n))\n",
    "            return hit, index\n",
    "\n",
    "    def evaluate_model_for_user(self, model, user_id):\n",
    "        #Getting the items in test set\n",
    "        interacted_values_testset = self.user_indexed_test_df.loc[user_id]\n",
    "        if type(interacted_values_testset['click_article_id']) == pd.Series:\n",
    "            user_interacted_items_testset = set(interacted_values_testset['click_article_id'])\n",
    "        else:\n",
    "            user_interacted_items_testset = set([int(interacted_values_testset['click_article_id'])])  \n",
    "        interacted_items_count_testset = len(user_interacted_items_testset)\n",
    "\n",
    "        #Getting a ranked recommendation list from a model for a given user\n",
    "        user_recs_df = self.articles_df.loc[model.article_selection(user_id, top_n=20),:]\n",
    "        hits_at_5_count = 0\n",
    "        hits_at_10_count = 0\n",
    "        #For each item the user has interacted in test set\n",
    "        for item_id in user_interacted_items_testset:\n",
    "            #Getting a random sample (100) items the user has not interacted \n",
    "            #(to represent items that are assumed to be no relevant to the user)\n",
    "            non_interacted_items_sample = self.get_not_interacted_items_sample(user_id, \n",
    "                                                                          sample_size=100, \n",
    "                                                                          seed=item_id%(2**32))\n",
    "            #Combining the current interacted item with the 100 random items\n",
    "            items_to_filter_recs = non_interacted_items_sample.union(set([item_id]))\n",
    "            #Filtering only recommendations that are either the interacted item or from a random sample of 100 non-interacted items\n",
    "            valid_recs_df = user_recs_df[user_recs_df.index.isin(items_to_filter_recs)]                    \n",
    "            valid_recs = valid_recs_df.index.tolist()\n",
    "            #Verifying if the current interacted item is among the Top-N recommended items\n",
    "            hit_at_5, index_at_5 = self._verify_hit_top_n(item_id, valid_recs, 5)\n",
    "            hits_at_5_count += hit_at_5\n",
    "            hit_at_10, index_at_10 = self._verify_hit_top_n(item_id, valid_recs, 10)\n",
    "            hits_at_10_count += hit_at_10\n",
    "\n",
    "        #Recall is the rate of the interacted items that are ranked among the Top-N recommended items, \n",
    "        #when mixed with a set of non-relevant items\n",
    "        recall_at_5 = hits_at_5_count / float(interacted_items_count_testset)\n",
    "        recall_at_10 = hits_at_10_count / float(interacted_items_count_testset)\n",
    "\n",
    "        user_metrics = {'hits@5_count':hits_at_5_count, \n",
    "                          'hits@10_count':hits_at_10_count, \n",
    "                          'interacted_count': interacted_items_count_testset,\n",
    "                          'recall@5': recall_at_5,\n",
    "                          'recall@10': recall_at_10}\n",
    "        return user_metrics\n",
    "\n",
    "    def evaluate_model(self, model, user_sample_size=None):\n",
    "        #print('Running evaluation for users')\n",
    "        people_metrics = []\n",
    "        if user_sample_size:\n",
    "            for idx, user_id in enumerate(random.sample(list(self.user_indexed_test_df.index.unique().values), user_sample_size)):\n",
    "                print(f'now processing user {idx} of {user_sample_size}')\n",
    "                clear_output(wait=True)\n",
    "                user_metrics = self.evaluate_model_for_user(model, user_id) \n",
    "                user_metrics['_user_id'] = user_id\n",
    "                people_metrics.append(user_metrics) \n",
    "        else : \n",
    "            for idx, user_id in enumerate(list(self.user_indexed_test_df.index.unique().values, )):\n",
    "                print(f'now processing user {idx} of {len(self.user_indexed_test_df.index.unique().values)}')\n",
    "                clear_output(wait=True)\n",
    "                user_metrics = self.evaluate_model_for_user(model, user_id) \n",
    "                user_metrics['_user_id'] = user_id\n",
    "                people_metrics.append(user_metrics)       \n",
    "        detailed_results_df = pd.DataFrame(people_metrics) \\\n",
    "                            .sort_values('interacted_count', ascending=False)\n",
    "        \n",
    "        global_recall_at_5 = detailed_results_df['hits@5_count'].sum() / float(detailed_results_df['interacted_count'].sum())\n",
    "        global_recall_at_10 = detailed_results_df['hits@10_count'].sum() / float(detailed_results_df['interacted_count'].sum())\n",
    "        \n",
    "        global_metrics = {'modelName': model.model_name,\n",
    "                          'recall@5': global_recall_at_5,\n",
    "                          'recall@10': global_recall_at_10}    \n",
    "        return global_metrics, detailed_results_df"
   ]
  },
  {
   "cell_type": "code",
   "execution_count": null,
   "id": "9bf49944-e17b-4a08-bd10-256f861d14bf",
   "metadata": {},
   "outputs": [],
   "source": []
  },
  {
   "cell_type": "markdown",
   "id": "1a773143-404c-4810-a351-9089919f5836",
   "metadata": {},
   "source": [
    "<br><a id='partie_3'></a><br>\n",
    "### III - Evaluation du recommender content-based : <br>"
   ]
  },
  {
   "cell_type": "markdown",
   "id": "7edeb09a-a72a-4ebd-9390-8b013f8f099a",
   "metadata": {},
   "source": [
    "Train/test split : "
   ]
  },
  {
   "cell_type": "code",
   "execution_count": 8,
   "id": "129650c1-59d1-4c7a-a102-2cac234cd1cf",
   "metadata": {},
   "outputs": [],
   "source": [
    "from sklearn.model_selection import train_test_split\n",
    "train_df, test_df = train_test_split(filtered_initial_clicks_db,\n",
    "                                   stratify=filtered_initial_clicks_db['user_id'], \n",
    "                                   test_size=0.15,\n",
    "                                   random_state=42)\n",
    "user_indexed_train_df = train_df.set_index('user_id')\n",
    "user_indexed_test_df = test_df.set_index('user_id')"
   ]
  },
  {
   "cell_type": "code",
   "execution_count": 9,
   "id": "44677c20-03d3-4057-b574-a0898b9415ae",
   "metadata": {},
   "outputs": [],
   "source": [
    "import pandas as pd\n",
    "import numpy as np\n",
    "from sklearn.preprocessing import normalize\n",
    "from sklearn.metrics.pairwise import cosine_similarity\n",
    "\n",
    "\n",
    "class CBF_Recommender():\n",
    "\n",
    "    def __init__(self, initial_clicks_db, user_indexed_clicks_db, article_features):\n",
    "        self.model_name = 'Content-based filtering'\n",
    "        self.initial_clicks_db = initial_clicks_db\n",
    "        self.clicks_db = user_indexed_clicks_db\n",
    "        self.article_features = article_features\n",
    "        self.dup_list = self.initial_clicks_db.duplicated(subset=['user_id','click_article_id']) \n",
    "    \n",
    "    def cb_article_weights(self):\n",
    "        clicks_db = self.initial_clicks_db.copy()\n",
    "        clicks_db.loc[:,'cbr_weight'] = 1\n",
    "        clicks_db.cbr_weight[self.dup_list] = clicks_db[self.dup_list].loc[:,'cbr_weight'].apply(lambda x : x + 2)\n",
    "        return clicks_db.loc[:,'cbr_weight']\n",
    "\n",
    "    def build_users_profile(self, user_id):\n",
    "        clicks_weights = self.initial_clicks_db.copy()\n",
    "        clicks_weights.loc[:,'weights'] = self.cb_article_weights()\n",
    "        user_clicks_df = clicks_weights[clicks_weights.loc[:,'user_id'] == user_id]\n",
    "        user_item_profiles = self.article_features.loc[user_clicks_df.drop_duplicates(subset='click_article_id')['click_article_id'],:]\n",
    "        # print(f'user item profiles shape : {user_item_profiles.shape}')\n",
    "        user_weights = np.array(user_clicks_df.groupby('click_article_id').agg('sum').loc[:,'weights']).reshape(-1,1)\n",
    "        # print(f'user weights shape : {user_weights.shape}')\n",
    "        weighted_user_item_profiles = user_item_profiles.multiply(user_weights)\n",
    "        user_profile_norm = pd.DataFrame(normalize(weighted_user_item_profiles), index = [user_item_profiles.index], columns=user_item_profiles.columns)\n",
    "        return user_profile_norm\n",
    "\n",
    "    def build_users_profiles(self): \n",
    "        clicks_db = self.clicks_db.copy()\n",
    "        interactions_indexed_df = clicks_db[clicks_db['click_article_id'] \\\n",
    "                                                       .isin(self.article_features.index)]\n",
    "        user_profiles = {}\n",
    "        for user_id in clicks_db.index.unique():\n",
    "            user_profiles[user_id] = self.build_users_profile(user_id)\n",
    "        return user_profiles\n",
    "\n",
    "    def article_selection(self, user_id, top_n=50, verbose=False):\n",
    "        user_profile = self.build_users_profile(user_id)\n",
    "        cosine_similarities = cosine_similarity(user_profile, self.article_features)\n",
    "        selected_indices = cosine_similarities.argsort().flatten()\n",
    "        selection = sorted([(i, cosine_similarities[0,i]) for i in selected_indices if i not in user_profile.index.tolist()], key=lambda x: -x[1])        \n",
    "        if verbose : \n",
    "            display(pd.DataFrame(selection))\n",
    "        return [i[0] for i in selection[top_n:]]\n",
    "\n",
    "    def display_selection_meta(self, user_selection, meta):\n",
    "        return meta[meta.loc[:,'article_id'].isin(user_selection)]"
   ]
  },
  {
   "cell_type": "markdown",
   "id": "5d453144-704c-4d27-ad51-8a8381fc8281",
   "metadata": {},
   "source": [
    "Instanciation du recommender : "
   ]
  },
  {
   "cell_type": "code",
   "execution_count": 35,
   "id": "8ef30795-1b5f-408d-b866-8ed8540565ae",
   "metadata": {},
   "outputs": [],
   "source": [
    "reduced_features = article_features.iloc[:,:251]\n",
    "cbf_recommender = CBF_Recommender(initial_clicks_db=train_df, user_indexed_clicks_db=user_indexed_train_df, article_features=reduced_features)"
   ]
  },
  {
   "cell_type": "code",
   "execution_count": 37,
   "id": "6c3f688f-9219-457f-b617-e18b0c3867fd",
   "metadata": {},
   "outputs": [
    {
     "data": {
      "text/html": [
       "<div>\n",
       "<style scoped>\n",
       "    .dataframe tbody tr th:only-of-type {\n",
       "        vertical-align: middle;\n",
       "    }\n",
       "\n",
       "    .dataframe tbody tr th {\n",
       "        vertical-align: top;\n",
       "    }\n",
       "\n",
       "    .dataframe thead th {\n",
       "        text-align: right;\n",
       "    }\n",
       "</style>\n",
       "<table border=\"1\" class=\"dataframe\">\n",
       "  <thead>\n",
       "    <tr style=\"text-align: right;\">\n",
       "      <th></th>\n",
       "      <th>0</th>\n",
       "      <th>1</th>\n",
       "    </tr>\n",
       "  </thead>\n",
       "  <tbody>\n",
       "    <tr>\n",
       "      <th>0</th>\n",
       "      <td>337743</td>\n",
       "      <td>0.921630</td>\n",
       "    </tr>\n",
       "    <tr>\n",
       "      <th>1</th>\n",
       "      <td>337743</td>\n",
       "      <td>0.921630</td>\n",
       "    </tr>\n",
       "    <tr>\n",
       "      <th>2</th>\n",
       "      <td>337743</td>\n",
       "      <td>0.921630</td>\n",
       "    </tr>\n",
       "    <tr>\n",
       "      <th>3</th>\n",
       "      <td>336538</td>\n",
       "      <td>0.918965</td>\n",
       "    </tr>\n",
       "    <tr>\n",
       "      <th>4</th>\n",
       "      <td>336538</td>\n",
       "      <td>0.918965</td>\n",
       "    </tr>\n",
       "    <tr>\n",
       "      <th>...</th>\n",
       "      <td>...</td>\n",
       "      <td>...</td>\n",
       "    </tr>\n",
       "    <tr>\n",
       "      <th>1092127</th>\n",
       "      <td>37644</td>\n",
       "      <td>-0.273018</td>\n",
       "    </tr>\n",
       "    <tr>\n",
       "      <th>1092128</th>\n",
       "      <td>37644</td>\n",
       "      <td>-0.273018</td>\n",
       "    </tr>\n",
       "    <tr>\n",
       "      <th>1092129</th>\n",
       "      <td>79085</td>\n",
       "      <td>-0.310578</td>\n",
       "    </tr>\n",
       "    <tr>\n",
       "      <th>1092130</th>\n",
       "      <td>79085</td>\n",
       "      <td>-0.310578</td>\n",
       "    </tr>\n",
       "    <tr>\n",
       "      <th>1092131</th>\n",
       "      <td>79085</td>\n",
       "      <td>-0.310578</td>\n",
       "    </tr>\n",
       "  </tbody>\n",
       "</table>\n",
       "<p>1092132 rows × 2 columns</p>\n",
       "</div>"
      ],
      "text/plain": [
       "              0         1\n",
       "0        337743  0.921630\n",
       "1        337743  0.921630\n",
       "2        337743  0.921630\n",
       "3        336538  0.918965\n",
       "4        336538  0.918965\n",
       "...         ...       ...\n",
       "1092127   37644 -0.273018\n",
       "1092128   37644 -0.273018\n",
       "1092129   79085 -0.310578\n",
       "1092130   79085 -0.310578\n",
       "1092131   79085 -0.310578\n",
       "\n",
       "[1092132 rows x 2 columns]"
      ]
     },
     "metadata": {},
     "output_type": "display_data"
    }
   ],
   "source": [
    "random_user = random.sample(train_df.user_id.unique().tolist(), 1)\n",
    "delete_list = cbf_recommender.article_selection(random_user[0], top_n=50, verbose=True)"
   ]
  },
  {
   "cell_type": "markdown",
   "id": "c690071b-3ad1-4f87-9326-a12c5482d5a0",
   "metadata": {},
   "source": [
    "Evaluation sur le jeu de test : "
   ]
  },
  {
   "cell_type": "code",
   "execution_count": 39,
   "id": "8fd42f62-c316-474b-b60c-9867ad166537",
   "metadata": {},
   "outputs": [],
   "source": [
    "\n",
    "model_evaluator = ModelEvaluation(clicks_db, user_indexed_train_df, user_indexed_test_df, reduced_features)"
   ]
  },
  {
   "cell_type": "code",
   "execution_count": 40,
   "id": "28bec7a4-597b-49c8-9843-3acc1c9868c0",
   "metadata": {},
   "outputs": [
    {
     "name": "stdout",
     "output_type": "stream",
     "text": [
      "now processing user 49 of 50\n"
     ]
    }
   ],
   "source": [
    "content_based_scores = model_evaluator.evaluate_model(cbf_recommender, 50)"
   ]
  },
  {
   "cell_type": "markdown",
   "id": "3da0e62a-4db0-4732-b625-fb0539ce37f4",
   "metadata": {},
   "source": [
    "Score du recommender sur tous utilisateurs : "
   ]
  },
  {
   "cell_type": "code",
   "execution_count": 40,
   "id": "4b53a626-961f-4b99-bcd6-aee258e50888",
   "metadata": {},
   "outputs": [
    {
     "data": {
      "text/plain": [
       "{'modelName': 'Content-based filtering',\n",
       " 'recall@5': 0.05040075202849792,\n",
       " 'recall@10': 0.05040075202849792}"
      ]
     },
     "execution_count": 40,
     "metadata": {},
     "output_type": "execute_result"
    }
   ],
   "source": [
    "content_based_scores[0]"
   ]
  },
  {
   "cell_type": "markdown",
   "id": "eeaea978-a2b1-4f3c-8007-5ff1f76dc656",
   "metadata": {},
   "source": [
    "Score du recommender sur données seuillées à 3 interactions :  "
   ]
  },
  {
   "cell_type": "code",
   "execution_count": 41,
   "id": "698d5278-2a05-494e-96cd-857143d71783",
   "metadata": {},
   "outputs": [
    {
     "data": {
      "text/plain": [
       "{'modelName': 'Content-based filtering',\n",
       " 'recall@5': 0.07482993197278912,\n",
       " 'recall@10': 0.08843537414965986}"
      ]
     },
     "execution_count": 41,
     "metadata": {},
     "output_type": "execute_result"
    }
   ],
   "source": [
    "content_based_scores[0]"
   ]
  },
  {
   "cell_type": "markdown",
   "id": "1ff2f33b-eed4-4539-813e-41039e82e437",
   "metadata": {},
   "source": [
    "Score du recommender sur données seuillées à 5 interactions :  "
   ]
  },
  {
   "cell_type": "code",
   "execution_count": 144,
   "id": "5e04c815-abd0-43a5-b677-cb956b969309",
   "metadata": {},
   "outputs": [
    {
     "data": {
      "text/plain": [
       "({'modelName': 'Content-based filtering',\n",
       "  'recall@5': 0.09375,\n",
       "  'recall@10': 0.09375},\n",
       "     hits@5_count  hits@10_count  interacted_count  recall@5  recall@10  \\\n",
       " 41             0              0                 8  0.000000   0.000000   \n",
       " 38             1              1                 8  0.125000   0.125000   \n",
       " 49             0              0                 6  0.000000   0.000000   \n",
       " 9              0              0                 6  0.000000   0.000000   \n",
       " 23             0              0                 6  0.000000   0.000000   \n",
       " 26             1              1                 5  0.200000   0.200000   \n",
       " 7              0              0                 5  0.000000   0.000000   \n",
       " 16             0              0                 5  0.000000   0.000000   \n",
       " 1              0              0                 4  0.000000   0.000000   \n",
       " 25             2              2                 4  0.500000   0.500000   \n",
       " 5              0              0                 4  0.000000   0.000000   \n",
       " 48             1              1                 3  0.333333   0.333333   \n",
       " 36             1              1                 3  0.333333   0.333333   \n",
       " 14             1              1                 3  0.333333   0.333333   \n",
       " 15             0              0                 3  0.000000   0.000000   \n",
       " 34             0              0                 3  0.000000   0.000000   \n",
       " 18             0              0                 3  0.000000   0.000000   \n",
       " 4              0              0                 3  0.000000   0.000000   \n",
       " 0              0              0                 2  0.000000   0.000000   \n",
       " 35             0              0                 2  0.000000   0.000000   \n",
       " 33             1              1                 2  0.500000   0.500000   \n",
       " 2              0              0                 2  0.000000   0.000000   \n",
       " 11             0              0                 2  0.000000   0.000000   \n",
       " 29             1              1                 2  0.500000   0.500000   \n",
       " 27             0              0                 2  0.000000   0.000000   \n",
       " 24             0              0                 2  0.000000   0.000000   \n",
       " 6              0              0                 2  0.000000   0.000000   \n",
       " 44             0              0                 2  0.000000   0.000000   \n",
       " 20             0              0                 2  0.000000   0.000000   \n",
       " 19             0              0                 2  0.000000   0.000000   \n",
       " 45             0              0                 2  0.000000   0.000000   \n",
       " 39             0              0                 2  0.000000   0.000000   \n",
       " 3              0              0                 1  0.000000   0.000000   \n",
       " 42             1              1                 1  1.000000   1.000000   \n",
       " 43             0              0                 1  0.000000   0.000000   \n",
       " 40             1              1                 1  1.000000   1.000000   \n",
       " 46             0              0                 1  0.000000   0.000000   \n",
       " 47             0              0                 1  0.000000   0.000000   \n",
       " 10             0              0                 1  0.000000   0.000000   \n",
       " 37             0              0                 1  0.000000   0.000000   \n",
       " 32             1              1                 1  1.000000   1.000000   \n",
       " 31             0              0                 1  0.000000   0.000000   \n",
       " 28             0              0                 1  0.000000   0.000000   \n",
       " 22             0              0                 1  0.000000   0.000000   \n",
       " 21             0              0                 1  0.000000   0.000000   \n",
       " 17             0              0                 1  0.000000   0.000000   \n",
       " 8              0              0                 1  0.000000   0.000000   \n",
       " 13             0              0                 1  0.000000   0.000000   \n",
       " 12             0              0                 1  0.000000   0.000000   \n",
       " 30             0              0                 1  0.000000   0.000000   \n",
       " \n",
       "     _user_id  \n",
       " 41     50413  \n",
       " 38     22480  \n",
       " 49     61756  \n",
       " 9       5179  \n",
       " 23     16536  \n",
       " 26     39681  \n",
       " 7       6439  \n",
       " 16     62783  \n",
       " 1       2238  \n",
       " 25      6280  \n",
       " 5      78333  \n",
       " 48     72003  \n",
       " 36     21572  \n",
       " 14     56070  \n",
       " 15     55418  \n",
       " 34     44541  \n",
       " 18     51160  \n",
       " 4      14038  \n",
       " 0      48594  \n",
       " 35     34998  \n",
       " 33     69722  \n",
       " 2      65395  \n",
       " 11     27885  \n",
       " 29     53204  \n",
       " 27     67944  \n",
       " 24     40540  \n",
       " 6      22236  \n",
       " 44     37252  \n",
       " 20     42865  \n",
       " 19     28582  \n",
       " 45     35490  \n",
       " 39     28317  \n",
       " 3      78653  \n",
       " 42     34787  \n",
       " 43     55637  \n",
       " 40     53363  \n",
       " 46     40382  \n",
       " 47     75229  \n",
       " 10     44117  \n",
       " 37     23383  \n",
       " 32     71390  \n",
       " 31     58766  \n",
       " 28      8220  \n",
       " 22     29432  \n",
       " 21     14181  \n",
       " 17     74889  \n",
       " 8      59421  \n",
       " 13     39451  \n",
       " 12     73952  \n",
       " 30     30117  )"
      ]
     },
     "execution_count": 144,
     "metadata": {},
     "output_type": "execute_result"
    }
   ],
   "source": [
    "model_evaluator.evaluate_model(cbf_recommender, 50)"
   ]
  },
  {
   "cell_type": "code",
   "execution_count": 39,
   "id": "4d22375e-6cc2-426c-81aa-d93bf8aa6b2d",
   "metadata": {},
   "outputs": [
    {
     "data": {
      "text/html": [
       "<div>\n",
       "<style scoped>\n",
       "    .dataframe tbody tr th:only-of-type {\n",
       "        vertical-align: middle;\n",
       "    }\n",
       "\n",
       "    .dataframe tbody tr th {\n",
       "        vertical-align: top;\n",
       "    }\n",
       "\n",
       "    .dataframe thead th {\n",
       "        text-align: right;\n",
       "    }\n",
       "</style>\n",
       "<table border=\"1\" class=\"dataframe\">\n",
       "  <thead>\n",
       "    <tr style=\"text-align: right;\">\n",
       "      <th></th>\n",
       "      <th>hits@5_count</th>\n",
       "      <th>hits@10_count</th>\n",
       "      <th>interacted_count</th>\n",
       "      <th>recall@5</th>\n",
       "      <th>recall@10</th>\n",
       "      <th>_user_id</th>\n",
       "    </tr>\n",
       "  </thead>\n",
       "  <tbody>\n",
       "    <tr>\n",
       "      <th>59</th>\n",
       "      <td>0</td>\n",
       "      <td>0</td>\n",
       "      <td>180</td>\n",
       "      <td>0.000000</td>\n",
       "      <td>0.000000</td>\n",
       "      <td>5890</td>\n",
       "    </tr>\n",
       "    <tr>\n",
       "      <th>2514</th>\n",
       "      <td>0</td>\n",
       "      <td>0</td>\n",
       "      <td>141</td>\n",
       "      <td>0.000000</td>\n",
       "      <td>0.000000</td>\n",
       "      <td>73574</td>\n",
       "    </tr>\n",
       "    <tr>\n",
       "      <th>2220</th>\n",
       "      <td>0</td>\n",
       "      <td>0</td>\n",
       "      <td>130</td>\n",
       "      <td>0.000000</td>\n",
       "      <td>0.000000</td>\n",
       "      <td>15867</td>\n",
       "    </tr>\n",
       "    <tr>\n",
       "      <th>934</th>\n",
       "      <td>2</td>\n",
       "      <td>2</td>\n",
       "      <td>112</td>\n",
       "      <td>0.017857</td>\n",
       "      <td>0.017857</td>\n",
       "      <td>15275</td>\n",
       "    </tr>\n",
       "    <tr>\n",
       "      <th>474</th>\n",
       "      <td>1</td>\n",
       "      <td>1</td>\n",
       "      <td>102</td>\n",
       "      <td>0.009804</td>\n",
       "      <td>0.009804</td>\n",
       "      <td>2151</td>\n",
       "    </tr>\n",
       "    <tr>\n",
       "      <th>...</th>\n",
       "      <td>...</td>\n",
       "      <td>...</td>\n",
       "      <td>...</td>\n",
       "      <td>...</td>\n",
       "      <td>...</td>\n",
       "      <td>...</td>\n",
       "    </tr>\n",
       "    <tr>\n",
       "      <th>43680</th>\n",
       "      <td>1</td>\n",
       "      <td>1</td>\n",
       "      <td>1</td>\n",
       "      <td>1.000000</td>\n",
       "      <td>1.000000</td>\n",
       "      <td>1447</td>\n",
       "    </tr>\n",
       "    <tr>\n",
       "      <th>43679</th>\n",
       "      <td>1</td>\n",
       "      <td>1</td>\n",
       "      <td>1</td>\n",
       "      <td>1.000000</td>\n",
       "      <td>1.000000</td>\n",
       "      <td>52266</td>\n",
       "    </tr>\n",
       "    <tr>\n",
       "      <th>43677</th>\n",
       "      <td>0</td>\n",
       "      <td>0</td>\n",
       "      <td>1</td>\n",
       "      <td>0.000000</td>\n",
       "      <td>0.000000</td>\n",
       "      <td>16885</td>\n",
       "    </tr>\n",
       "    <tr>\n",
       "      <th>43676</th>\n",
       "      <td>0</td>\n",
       "      <td>0</td>\n",
       "      <td>1</td>\n",
       "      <td>0.000000</td>\n",
       "      <td>0.000000</td>\n",
       "      <td>13178</td>\n",
       "    </tr>\n",
       "    <tr>\n",
       "      <th>59381</th>\n",
       "      <td>0</td>\n",
       "      <td>0</td>\n",
       "      <td>1</td>\n",
       "      <td>0.000000</td>\n",
       "      <td>0.000000</td>\n",
       "      <td>41328</td>\n",
       "    </tr>\n",
       "  </tbody>\n",
       "</table>\n",
       "<p>59382 rows × 6 columns</p>\n",
       "</div>"
      ],
      "text/plain": [
       "       hits@5_count  hits@10_count  interacted_count  recall@5  recall@10  \\\n",
       "59                0              0               180  0.000000   0.000000   \n",
       "2514              0              0               141  0.000000   0.000000   \n",
       "2220              0              0               130  0.000000   0.000000   \n",
       "934               2              2               112  0.017857   0.017857   \n",
       "474               1              1               102  0.009804   0.009804   \n",
       "...             ...            ...               ...       ...        ...   \n",
       "43680             1              1                 1  1.000000   1.000000   \n",
       "43679             1              1                 1  1.000000   1.000000   \n",
       "43677             0              0                 1  0.000000   0.000000   \n",
       "43676             0              0                 1  0.000000   0.000000   \n",
       "59381             0              0                 1  0.000000   0.000000   \n",
       "\n",
       "       _user_id  \n",
       "59         5890  \n",
       "2514      73574  \n",
       "2220      15867  \n",
       "934       15275  \n",
       "474        2151  \n",
       "...         ...  \n",
       "43680      1447  \n",
       "43679     52266  \n",
       "43677     16885  \n",
       "43676     13178  \n",
       "59381     41328  \n",
       "\n",
       "[59382 rows x 6 columns]"
      ]
     },
     "execution_count": 39,
     "metadata": {},
     "output_type": "execute_result"
    }
   ],
   "source": [
    "pd.DataFrame(content_based_scores[1])"
   ]
  },
  {
   "cell_type": "markdown",
   "id": "09f42781-44b2-4731-957a-2deece26bbfa",
   "metadata": {},
   "source": [
    "Sauvegarde et lecture des prédictions à partir d'un fichier texte : "
   ]
  },
  {
   "cell_type": "code",
   "execution_count": 68,
   "id": "e4dc647e-8b2b-44a2-ba4c-7478ad1d14a8",
   "metadata": {},
   "outputs": [],
   "source": [
    "import json\n",
    "\n",
    "def save_user_prediction(user_id, top_n, out_dir):\n",
    "    user_recs = cbf_recommender.article_selection(user_id, top_n=top_n)\n",
    "    with open (f'{out_dir+\"/\"}user_{user_id}_predictions.txt', 'w') as outfile:\n",
    "        json.dump(user_recs.tolist(), outfile)\n",
    "\n",
    "save_user_prediction(15, 100, 'C:/users/Lewin/Downloads/OC/Projet_9/predictions')"
   ]
  },
  {
   "cell_type": "code",
   "execution_count": 79,
   "id": "98af67be-3d41-4208-b9e8-5a09e7e98d7b",
   "metadata": {},
   "outputs": [],
   "source": [
    "def read_user_predictions(user_id, range_limits, files_dir):\n",
    "    filepath = f'{files_dir+\"/\"}user_{user_id}_predictions.txt'\n",
    "    with open (f'{files_dir+\"/\"}user_{user_id}_predictions.txt', 'r') as pred_file:\n",
    "        pred_list = json.load(pred_file)\n",
    "    return pred_list[range_limits[0]:range_limits[1]]"
   ]
  },
  {
   "cell_type": "code",
   "execution_count": 81,
   "id": "ef42ec7a-4a39-4ac2-9d34-0058061139e6",
   "metadata": {},
   "outputs": [
    {
     "data": {
      "text/plain": [
       "[96202, 96428, 96785, 96312, 97001]"
      ]
     },
     "execution_count": 81,
     "metadata": {},
     "output_type": "execute_result"
    }
   ],
   "source": [
    "read_user_predictions(15, (0,5), 'C:/users/Lewin/Downloads/OC/Projet_9/predictions')"
   ]
  },
  {
   "cell_type": "markdown",
   "id": "85a579a3-4c3a-4109-a018-a6d5a70bea26",
   "metadata": {},
   "source": [
    "Préparation des recommandations des 5000 premiers utilisateurs pour le démonstrateur : "
   ]
  },
  {
   "cell_type": "code",
   "execution_count": 94,
   "id": "f99f2ed7-5b99-459b-86c7-656ea51ec3a1",
   "metadata": {},
   "outputs": [
    {
     "name": "stdout",
     "output_type": "stream",
     "text": [
      "5000 users of 5000 processed\n"
     ]
    }
   ],
   "source": [
    "idxrange = train_df.user_id.unique()[0:5000]\n",
    "out_dir = 'C:/users/Lewin/Downloads/OC/Projet_9/predictions'\n",
    "for i, user in enumerate(idxrange):\n",
    "    user_recs = cbf_recommender.article_selection(user, top_n=100)\n",
    "    with open (f'{out_dir+\"/\"}user_{i}_predictions.txt', 'w') as outfile:\n",
    "        json.dump(user_recs.tolist(), outfile)\n",
    "    clear_output(wait=True)\n",
    "    print(f'{i+1} users of {len(idxrange)} processed')  "
   ]
  },
  {
   "cell_type": "markdown",
   "id": "2145b11d-8ad3-4ffe-ac85-ead59ea7198b",
   "metadata": {},
   "source": [
    "<br><a id='partie_4'></a><br>\n",
    "## IV - Evaluation du collaborative filtering : "
   ]
  },
  {
   "cell_type": "markdown",
   "id": "6d687969-8789-4916-8fd2-76c8669cb7b0",
   "metadata": {},
   "source": [
    "Classe CF_recommender : "
   ]
  },
  {
   "cell_type": "code",
   "execution_count": 49,
   "id": "69b13a92-af6b-442d-8d84-2ed3cada28e5",
   "metadata": {},
   "outputs": [],
   "source": [
    "from surprise import Reader, Dataset, SVD, accuracy\n",
    "from surprise.model_selection import train_test_split\n",
    "import pandas as pd\n",
    "import numpy as np\n",
    "\n",
    "\n",
    "class CF_Recommender():\n",
    "    \n",
    "    def __init__(self, clicks_data):\n",
    "        self.model_name = 'Collaborative filtering'\n",
    "        self.reader = Reader()\n",
    "        self.clicks_data = clicks_data\n",
    "        self.dup_list = self.clicks_data.duplicated(subset=['user_id','click_article_id'])\n",
    "        self.cf_clicks_db = None\n",
    "        self.data = None\n",
    "        self.trainset = []\n",
    "        self.algo = SVD()\n",
    "        \n",
    "    def cf_user_weights(self):\n",
    "        clicks_db=self.clicks_data\n",
    "        clicks_db.loc[:,'cf_weight'] = 1\n",
    "#         clicks_db[self.dup_list]['cf_weight'] += 2\n",
    "        clicks_db.cf_weight[self.dup_list] = clicks_db[self.dup_list].loc[:,'cf_weight'].apply(lambda x : x + 2)\n",
    "#         clicks_db.cf_weight[clicks_db['click_country'].isin(clicks_db.loc[[user_id], 'click_country'])] = clicks_db.cf_weight[\n",
    "#             clicks_db['click_country'].isin(clicks_db.loc[[user_id], 'click_country'])].apply(lambda x : x + 1)\n",
    "#         clicks_db.cf_weight[clicks_db['click_region'].isin(clicks_db.loc[[user_id], 'click_region'])] = clicks_db.cf_weight[\n",
    "#             clicks_db['click_region'].isin(clicks_db.loc[[user_id], 'click_region'])].apply(lambda x : x + 1)\n",
    "        return clicks_db\n",
    "    \n",
    "    def fit_evaluate(self):\n",
    "        self.cf_clicks_db = self.cf_user_weights(self.clicks_data)\n",
    "        # merged = self.cf_clicks_db.merge(pd.DataFrame(self.dup_list, columns=['duplicate']), how = 'left', left_index=True, right_index=True)\n",
    "        self.cf_clicks_db = self.cf_clicks_db.groupby(['user_id', 'click_article_id'])['cf_weight'].sum().reset_index()\n",
    "        self.data = Dataset.load_from_df(self.cf_clicks_db, self.reader)\n",
    "        self.trainset = self.data.build_full_trainset()\n",
    "        self.algo.fit(self.trainset)     \n",
    "        return self.algo\n",
    "\n",
    "    def predict_for_user(self, user_id):\n",
    "        predictions={}\n",
    "        article_ids = []\n",
    "        already_consumed = self.clicks_data[self.clicks_data['user_id']==user_id].loc[:,'click_article_id']\n",
    "        known_users = [self.trainset.to_raw_uid(i) for i in self.trainset.all_users()]\n",
    "        if user_id in known_users:\n",
    "            for i in self.trainset.all_items():\n",
    "                if self.trainset.to_raw_iid(i) not in already_consumed.values:\n",
    "                    article_ids.append(self.trainset.to_raw_iid(i))\n",
    "                    predictions[self.trainset.to_raw_iid(i)] = self.algo.predict(user_id, self.trainset.to_raw_iid(i), verbose=False)\n",
    "        else:\n",
    "            # use popularity filtering\n",
    "            print('Unknown_ID, can not make prediction')\n",
    "        return predictions\n",
    "    \n",
    "    def article_selection(self, user_id, top_n=20):\n",
    "        hits = []\n",
    "        predictions = self.predict_for_user(user_id)\n",
    "        for i in predictions.keys():\n",
    "            hits.append((predictions[i].iid, predictions[i].est))   \n",
    "        hits.sort(key=lambda x: x[1], reverse=True)\n",
    "        selection = [hits[i][0] for i in range(len(hits))]\n",
    "        return selection[:top_n]\n",
    "        "
   ]
  },
  {
   "cell_type": "code",
   "execution_count": 50,
   "id": "f67d80ea-0105-47ab-b1e4-b1c560b97e75",
   "metadata": {},
   "outputs": [],
   "source": [
    "# from Collaborative_filtering_recommender import CF_Recommender\n",
    "cf_recommender = CF_Recommender(train_df)"
   ]
  },
  {
   "cell_type": "markdown",
   "id": "179bc2ad-d097-4d03-8ff4-64a75cceadee",
   "metadata": {},
   "source": [
    "- Sans filtrage : "
   ]
  },
  {
   "cell_type": "code",
   "execution_count": 51,
   "id": "65330c26-2faa-43d7-8d9c-162cec798e88",
   "metadata": {},
   "outputs": [
    {
     "name": "stdout",
     "output_type": "stream",
     "text": [
      "RMSE: 0.3781\n"
     ]
    }
   ],
   "source": [
    " _ , rmse = cf_recommender.fit_evaluate()"
   ]
  },
  {
   "cell_type": "markdown",
   "id": "71ca7f48-652a-4f7d-9824-b49141f92c8f",
   "metadata": {},
   "source": [
    "- Evaluation sur 50 utilisateurs, données filtrées à 3 interactions minimum : "
   ]
  },
  {
   "cell_type": "code",
   "execution_count": 55,
   "id": "06414f53-3267-48e7-8f7f-4591eb35a238",
   "metadata": {},
   "outputs": [],
   "source": [
    "cf_model_evaluator = ModelEvaluation(clicks_db, user_indexed_train_df, user_indexed_test_df, article_features)"
   ]
  },
  {
   "cell_type": "code",
   "execution_count": 56,
   "id": "334aa3c2-e381-4610-bf36-f8594b6c9f19",
   "metadata": {},
   "outputs": [
    {
     "name": "stdout",
     "output_type": "stream",
     "text": [
      "now processing user 49 of 50\n"
     ]
    }
   ],
   "source": [
    "cf_scores = cf_model_evaluator.evaluate_model(cf_recommender, 50)"
   ]
  },
  {
   "cell_type": "code",
   "execution_count": 57,
   "id": "474d0d23-99d7-414f-8b32-db3c98821b09",
   "metadata": {},
   "outputs": [
    {
     "data": {
      "text/plain": [
       "({'modelName': 'Collaborative filtering', 'recall@5': 0.0, 'recall@10': 0.0},\n",
       "     hits@5_count  hits@10_count  interacted_count  recall@5  recall@10  \\\n",
       " 36             0              0                39       0.0        0.0   \n",
       " 27             0              0                39       0.0        0.0   \n",
       " 45             0              0                33       0.0        0.0   \n",
       " 0              0              0                31       0.0        0.0   \n",
       " 43             0              0                28       0.0        0.0   \n",
       " 10             0              0                27       0.0        0.0   \n",
       " 13             0              0                27       0.0        0.0   \n",
       " 24             0              0                24       0.0        0.0   \n",
       " 34             0              0                23       0.0        0.0   \n",
       " 47             0              0                21       0.0        0.0   \n",
       " 21             0              0                21       0.0        0.0   \n",
       " 1              0              0                20       0.0        0.0   \n",
       " 12             0              0                20       0.0        0.0   \n",
       " 5              0              0                16       0.0        0.0   \n",
       " 16             0              0                15       0.0        0.0   \n",
       " 44             0              0                14       0.0        0.0   \n",
       " 49             0              0                14       0.0        0.0   \n",
       " 25             0              0                13       0.0        0.0   \n",
       " 48             0              0                13       0.0        0.0   \n",
       " 2              0              0                12       0.0        0.0   \n",
       " 4              0              0                11       0.0        0.0   \n",
       " 14             0              0                11       0.0        0.0   \n",
       " 6              0              0                11       0.0        0.0   \n",
       " 3              0              0                10       0.0        0.0   \n",
       " 40             0              0                10       0.0        0.0   \n",
       " 32             0              0                 9       0.0        0.0   \n",
       " 19             0              0                 9       0.0        0.0   \n",
       " 29             0              0                 9       0.0        0.0   \n",
       " 35             0              0                 9       0.0        0.0   \n",
       " 41             0              0                 8       0.0        0.0   \n",
       " 38             0              0                 8       0.0        0.0   \n",
       " 33             0              0                 8       0.0        0.0   \n",
       " 18             0              0                 7       0.0        0.0   \n",
       " 46             0              0                 7       0.0        0.0   \n",
       " 26             0              0                 5       0.0        0.0   \n",
       " 7              0              0                 5       0.0        0.0   \n",
       " 22             0              0                 4       0.0        0.0   \n",
       " 23             0              0                 4       0.0        0.0   \n",
       " 11             0              0                 4       0.0        0.0   \n",
       " 42             0              0                 4       0.0        0.0   \n",
       " 31             0              0                 4       0.0        0.0   \n",
       " 9              0              0                 4       0.0        0.0   \n",
       " 39             0              0                 4       0.0        0.0   \n",
       " 28             0              0                 4       0.0        0.0   \n",
       " 37             0              0                 4       0.0        0.0   \n",
       " 8              0              0                 4       0.0        0.0   \n",
       " 17             0              0                 4       0.0        0.0   \n",
       " 30             0              0                 3       0.0        0.0   \n",
       " 15             0              0                 3       0.0        0.0   \n",
       " 20             0              0                 3       0.0        0.0   \n",
       " \n",
       "     _user_id  \n",
       " 36     59567  \n",
       " 27    131893  \n",
       " 45    115218  \n",
       " 0       3240  \n",
       " 43     76751  \n",
       " 10    141666  \n",
       " 13     58972  \n",
       " 24     47157  \n",
       " 34     57104  \n",
       " 47    100356  \n",
       " 21     24604  \n",
       " 1      27523  \n",
       " 12     36615  \n",
       " 5      91282  \n",
       " 16    118147  \n",
       " 44    164023  \n",
       " 49    126901  \n",
       " 25     54308  \n",
       " 48    161557  \n",
       " 2     216466  \n",
       " 4     135776  \n",
       " 14    169619  \n",
       " 6     158007  \n",
       " 3     182768  \n",
       " 40    125763  \n",
       " 32    193327  \n",
       " 19     64912  \n",
       " 29    123289  \n",
       " 35     25823  \n",
       " 41     16426  \n",
       " 38    199707  \n",
       " 33     28285  \n",
       " 18    276885  \n",
       " 46    220842  \n",
       " 26    110310  \n",
       " 7     215868  \n",
       " 22    226768  \n",
       " 23    293875  \n",
       " 11    211281  \n",
       " 42    251376  \n",
       " 31     74310  \n",
       " 9     217340  \n",
       " 39    179303  \n",
       " 28    202369  \n",
       " 37    126880  \n",
       " 8     105575  \n",
       " 17    257728  \n",
       " 30    159866  \n",
       " 15    317622  \n",
       " 20     36632  )"
      ]
     },
     "execution_count": 57,
     "metadata": {},
     "output_type": "execute_result"
    }
   ],
   "source": [
    "cf_scores"
   ]
  },
  {
   "cell_type": "markdown",
   "id": "9ef656c2-b7f2-4b69-a3cd-2df69953968e",
   "metadata": {},
   "source": [
    "- Sans filtrage des données : "
   ]
  },
  {
   "cell_type": "code",
   "execution_count": 80,
   "id": "682f1849-04c8-4eff-a894-77d6772f0e8c",
   "metadata": {},
   "outputs": [
    {
     "data": {
      "text/plain": [
       "({'modelName': 'Collaborative filtering', 'recall@5': 0.0, 'recall@10': 0.0},\n",
       "     hits@5_count  hits@10_count  interacted_count  recall@5  recall@10  \\\n",
       " 9              0              0                51       0.0        0.0   \n",
       " 19             0              0                32       0.0        0.0   \n",
       " 13             0              0                32       0.0        0.0   \n",
       " 1              0              0                30       0.0        0.0   \n",
       " 32             0              0                28       0.0        0.0   \n",
       " 28             0              0                27       0.0        0.0   \n",
       " 49             0              0                26       0.0        0.0   \n",
       " 11             0              0                24       0.0        0.0   \n",
       " 31             0              0                23       0.0        0.0   \n",
       " 27             0              0                22       0.0        0.0   \n",
       " 20             0              0                21       0.0        0.0   \n",
       " 29             0              0                20       0.0        0.0   \n",
       " 37             0              0                19       0.0        0.0   \n",
       " 43             0              0                19       0.0        0.0   \n",
       " 24             0              0                19       0.0        0.0   \n",
       " 15             0              0                18       0.0        0.0   \n",
       " 39             0              0                17       0.0        0.0   \n",
       " 8              0              0                16       0.0        0.0   \n",
       " 16             0              0                16       0.0        0.0   \n",
       " 25             0              0                15       0.0        0.0   \n",
       " 41             0              0                13       0.0        0.0   \n",
       " 38             0              0                12       0.0        0.0   \n",
       " 33             0              0                11       0.0        0.0   \n",
       " 45             0              0                10       0.0        0.0   \n",
       " 44             0              0                10       0.0        0.0   \n",
       " 18             0              0                 9       0.0        0.0   \n",
       " 46             0              0                 9       0.0        0.0   \n",
       " 35             0              0                 9       0.0        0.0   \n",
       " 14             0              0                 9       0.0        0.0   \n",
       " 21             0              0                 8       0.0        0.0   \n",
       " 7              0              0                 8       0.0        0.0   \n",
       " 22             0              0                 7       0.0        0.0   \n",
       " 36             0              0                 7       0.0        0.0   \n",
       " 4              0              0                 7       0.0        0.0   \n",
       " 30             0              0                 6       0.0        0.0   \n",
       " 47             0              0                 6       0.0        0.0   \n",
       " 5              0              0                 6       0.0        0.0   \n",
       " 12             0              0                 6       0.0        0.0   \n",
       " 26             0              0                 6       0.0        0.0   \n",
       " 10             0              0                 5       0.0        0.0   \n",
       " 2              0              0                 5       0.0        0.0   \n",
       " 23             0              0                 5       0.0        0.0   \n",
       " 0              0              0                 5       0.0        0.0   \n",
       " 17             0              0                 4       0.0        0.0   \n",
       " 40             0              0                 4       0.0        0.0   \n",
       " 34             0              0                 4       0.0        0.0   \n",
       " 6              0              0                 4       0.0        0.0   \n",
       " 48             0              0                 4       0.0        0.0   \n",
       " 3              0              0                 4       0.0        0.0   \n",
       " 42             0              0                 3       0.0        0.0   \n",
       " \n",
       "     _user_id  \n",
       " 9      86628  \n",
       " 19     43824  \n",
       " 13     71960  \n",
       " 1      69296  \n",
       " 32     98165  \n",
       " 28     23859  \n",
       " 49     44246  \n",
       " 11     71192  \n",
       " 31    164195  \n",
       " 27     52718  \n",
       " 20     85418  \n",
       " 29     78070  \n",
       " 37    120920  \n",
       " 43     23718  \n",
       " 24    180558  \n",
       " 15     55798  \n",
       " 39     12851  \n",
       " 8     173451  \n",
       " 16      9532  \n",
       " 25      6123  \n",
       " 41       810  \n",
       " 38      2212  \n",
       " 33     51435  \n",
       " 45    218020  \n",
       " 44     97512  \n",
       " 18     83871  \n",
       " 46    159663  \n",
       " 35    255349  \n",
       " 14     97660  \n",
       " 21    141238  \n",
       " 7      48714  \n",
       " 22    128803  \n",
       " 36    110171  \n",
       " 4     227562  \n",
       " 30    233641  \n",
       " 47    207604  \n",
       " 5     175666  \n",
       " 12     94483  \n",
       " 26    314380  \n",
       " 10    321380  \n",
       " 2      58080  \n",
       " 23    178848  \n",
       " 0     175163  \n",
       " 17    233316  \n",
       " 40    148491  \n",
       " 34     55974  \n",
       " 6     302000  \n",
       " 48    171933  \n",
       " 3     196413  \n",
       " 42    225754  )"
      ]
     },
     "execution_count": 80,
     "metadata": {},
     "output_type": "execute_result"
    }
   ],
   "source": [
    "cf_scores"
   ]
  },
  {
   "cell_type": "markdown",
   "id": "e1cff5f0-5d24-413f-9224-bd797eb6fc93",
   "metadata": {},
   "source": [
    "- Avec filtrage à 5 interactions minimum : "
   ]
  },
  {
   "cell_type": "code",
   "execution_count": 152,
   "id": "0267772c-e11f-49b7-bace-f8f4901d6dc9",
   "metadata": {},
   "outputs": [
    {
     "name": "stdout",
     "output_type": "stream",
     "text": [
      "RMSE: 0.4863\n"
     ]
    },
    {
     "data": {
      "text/plain": [
       "(<surprise.prediction_algorithms.matrix_factorization.SVD at 0x182b2faf8d0>,\n",
       " 0.48633107645281565)"
      ]
     },
     "execution_count": 152,
     "metadata": {},
     "output_type": "execute_result"
    }
   ],
   "source": [
    "cf_recommender.fit_evaluate()"
   ]
  },
  {
   "cell_type": "code",
   "execution_count": 153,
   "id": "06967ddc-4f1b-46b2-b7fc-f3d3ef8a53f3",
   "metadata": {},
   "outputs": [],
   "source": [
    "cf_model_evaluator = A_ModelEvaluation(clicks_db, user_indexed_train_df, user_indexed_test_df, article_features)"
   ]
  },
  {
   "cell_type": "code",
   "execution_count": 154,
   "id": "1aeeb079-8194-456b-bc15-c74643ba7ecd",
   "metadata": {},
   "outputs": [
    {
     "name": "stdout",
     "output_type": "stream",
     "text": [
      "now processing user 49 of 50\n"
     ]
    }
   ],
   "source": [
    "cf_scores = cf_model_evaluator.evaluate_model(cf_recommender, 50)"
   ]
  },
  {
   "cell_type": "code",
   "execution_count": 155,
   "id": "9fef9b90-b415-40a8-9333-850accca89a4",
   "metadata": {},
   "outputs": [
    {
     "data": {
      "text/plain": [
       "({'modelName': 'Collaborative filtering', 'recall@5': 0.0, 'recall@10': 0.0},\n",
       "     hits@5_count  hits@10_count  interacted_count  recall@5  recall@10  \\\n",
       " 32             0              0                10       0.0        0.0   \n",
       " 26             0              0                 8       0.0        0.0   \n",
       " 5              0              0                 6       0.0        0.0   \n",
       " 27             0              0                 5       0.0        0.0   \n",
       " 6              0              0                 5       0.0        0.0   \n",
       " 15             0              0                 5       0.0        0.0   \n",
       " 36             0              0                 5       0.0        0.0   \n",
       " 1              0              0                 4       0.0        0.0   \n",
       " 21             0              0                 4       0.0        0.0   \n",
       " 38             0              0                 4       0.0        0.0   \n",
       " 18             0              0                 4       0.0        0.0   \n",
       " 16             0              0                 4       0.0        0.0   \n",
       " 13             0              0                 4       0.0        0.0   \n",
       " 41             0              0                 4       0.0        0.0   \n",
       " 7              0              0                 4       0.0        0.0   \n",
       " 9              0              0                 3       0.0        0.0   \n",
       " 48             0              0                 3       0.0        0.0   \n",
       " 17             0              0                 3       0.0        0.0   \n",
       " 4              0              0                 3       0.0        0.0   \n",
       " 31             0              0                 3       0.0        0.0   \n",
       " 3              0              0                 3       0.0        0.0   \n",
       " 24             0              0                 3       0.0        0.0   \n",
       " 2              0              0                 3       0.0        0.0   \n",
       " 0              0              0                 3       0.0        0.0   \n",
       " 40             0              0                 2       0.0        0.0   \n",
       " 30             0              0                 2       0.0        0.0   \n",
       " 29             0              0                 2       0.0        0.0   \n",
       " 19             0              0                 2       0.0        0.0   \n",
       " 44             0              0                 2       0.0        0.0   \n",
       " 22             0              0                 2       0.0        0.0   \n",
       " 46             0              0                 2       0.0        0.0   \n",
       " 12             0              0                 2       0.0        0.0   \n",
       " 11             0              0                 2       0.0        0.0   \n",
       " 47             0              0                 2       0.0        0.0   \n",
       " 39             0              0                 2       0.0        0.0   \n",
       " 43             0              0                 1       0.0        0.0   \n",
       " 45             0              0                 1       0.0        0.0   \n",
       " 42             0              0                 1       0.0        0.0   \n",
       " 25             0              0                 1       0.0        0.0   \n",
       " 37             0              0                 1       0.0        0.0   \n",
       " 35             0              0                 1       0.0        0.0   \n",
       " 34             0              0                 1       0.0        0.0   \n",
       " 33             0              0                 1       0.0        0.0   \n",
       " 28             0              0                 1       0.0        0.0   \n",
       " 23             0              0                 1       0.0        0.0   \n",
       " 20             0              0                 1       0.0        0.0   \n",
       " 14             0              0                 1       0.0        0.0   \n",
       " 10             0              0                 1       0.0        0.0   \n",
       " 8              0              0                 1       0.0        0.0   \n",
       " 49             0              0                 1       0.0        0.0   \n",
       " \n",
       "     _user_id  \n",
       " 32     59392  \n",
       " 26        77  \n",
       " 5      11589  \n",
       " 27     65241  \n",
       " 6      10662  \n",
       " 15     15635  \n",
       " 36     74740  \n",
       " 1      18430  \n",
       " 21     25817  \n",
       " 38     60541  \n",
       " 18     63335  \n",
       " 16     68286  \n",
       " 13     57459  \n",
       " 41     78899  \n",
       " 7      72108  \n",
       " 9       6669  \n",
       " 48     68480  \n",
       " 17     36497  \n",
       " 4      72537  \n",
       " 31      5269  \n",
       " 3      66434  \n",
       " 24     68905  \n",
       " 2      22767  \n",
       " 0      51250  \n",
       " 40     52363  \n",
       " 30     67337  \n",
       " 29     31740  \n",
       " 19     40235  \n",
       " 44     26091  \n",
       " 22      5266  \n",
       " 46     10203  \n",
       " 12     61308  \n",
       " 11     75536  \n",
       " 47     15112  \n",
       " 39     67327  \n",
       " 43     69375  \n",
       " 45        21  \n",
       " 42     58306  \n",
       " 25     21799  \n",
       " 37     27609  \n",
       " 35     22883  \n",
       " 34     45712  \n",
       " 33     75456  \n",
       " 28     78896  \n",
       " 23     71643  \n",
       " 20     49802  \n",
       " 14     13201  \n",
       " 10     45167  \n",
       " 8      37604  \n",
       " 49     56253  )"
      ]
     },
     "execution_count": 155,
     "metadata": {},
     "output_type": "execute_result"
    }
   ],
   "source": [
    "cf_scores"
   ]
  },
  {
   "cell_type": "markdown",
   "id": "0f7d7ad5-b199-4215-b03e-237f0e220004",
   "metadata": {},
   "source": [
    "<br><a id='partie_5'></a><br>\n",
    "La méthode SVD ne permet pas d'obtenir un recall mesurable à 5 ou 10 propositions. L'indice d'affinité construit par simple interaction est peut être simplement non pertinent pour notre problème - ou alors les articles consommés dans le testset ne sont pas les plus pertinents au vu de nos données d'apprentissage..."
   ]
  },
  {
   "cell_type": "markdown",
   "id": "0a9a95a7-bc65-4ede-b380-5960cbcd476b",
   "metadata": {},
   "source": [
    "## V - Popularity rating : "
   ]
  },
  {
   "cell_type": "code",
   "execution_count": 58,
   "id": "99175ccc-c4bf-4f5b-b5eb-268694843551",
   "metadata": {},
   "outputs": [],
   "source": [
    "from Popularity_based_recommender import PopularityRecommender"
   ]
  },
  {
   "cell_type": "code",
   "execution_count": 80,
   "id": "8a183b7b-1d9a-4615-a110-ffb9fc9d73c5",
   "metadata": {},
   "outputs": [],
   "source": [
    "class PopularityRecommender:\n",
    "    \n",
    "    def __init__(self, clicks_df, items_df=None):\n",
    "        self.model_name = 'Popularity'\n",
    "        self.clicks_df = clicks_df\n",
    "        self.popularity_df = clicks_df.groupby('click_article_id')['click_country'].size().sort_values(ascending=False).reset_index()\n",
    "        self.items_df = items_df\n",
    "        \n",
    "    def get_model_name(self):\n",
    "        return self.MODEL_NAME\n",
    "        \n",
    "    def article_selection(self, user_id, top_n=10):\n",
    "        already_consumed = self.clicks_df[self.clicks_df.loc[:,'user_id'] == user_id]\n",
    "        already_consumed = already_consumed.loc[:,'click_article_id']\n",
    "        recommendations_df = self.popularity_df[~self.popularity_df['click_article_id'].isin(already_consumed)].head(top_n)\n",
    "        return recommendations_df.click_article_id.tolist()"
   ]
  },
  {
   "cell_type": "code",
   "execution_count": null,
   "id": "48abbdc5-d0b1-462e-bb52-7fa3f0292b73",
   "metadata": {},
   "outputs": [],
   "source": [
    "# train_data, test_data = train_test_split(initial_clicks_db,\n",
    "#                                    stratify=lo_initial_clicks_db['user_id'], \n",
    "#                                    test_size=0.5,\n",
    "#                                    random_state=42)\n",
    "# user_indexed_train_data = train_data.set_index('user_id')\n",
    "# user_indexed_test_data = test_data.set_index('user_id')"
   ]
  },
  {
   "cell_type": "code",
   "execution_count": 92,
   "id": "c5370889-d17f-494a-b950-d07959595aaf",
   "metadata": {},
   "outputs": [],
   "source": [
    "pbr = PopularityRecommender(train_df, article_features)"
   ]
  },
  {
   "cell_type": "code",
   "execution_count": 94,
   "id": "1d07abd2-a021-4cfe-bba4-07c60cb95e5d",
   "metadata": {},
   "outputs": [],
   "source": [
    "pbr_model_evaluator = ModelEvaluation(clicks_db, user_indexed_train_df, user_indexed_test_df, article_features)"
   ]
  },
  {
   "cell_type": "code",
   "execution_count": 96,
   "id": "7f91a7c1-0765-4492-9cee-58f479c15fea",
   "metadata": {},
   "outputs": [
    {
     "name": "stdout",
     "output_type": "stream",
     "text": [
      "now processing user 4999 of 5000\n"
     ]
    }
   ],
   "source": [
    "pbr_scores = pbr_model_evaluator.evaluate_model(pbr, 5000)"
   ]
  },
  {
   "cell_type": "code",
   "execution_count": 97,
   "id": "f5ddcbc2-8948-4c0f-9057-c77e1b60bdde",
   "metadata": {},
   "outputs": [
    {
     "data": {
      "text/plain": [
       "{'modelName': 'Popularity',\n",
       " 'recall@5': 0.021988089784699953,\n",
       " 'recall@10': 0.021988089784699953}"
      ]
     },
     "execution_count": 97,
     "metadata": {},
     "output_type": "execute_result"
    }
   ],
   "source": [
    "pbr_scores[0]"
   ]
  },
  {
   "cell_type": "code",
   "execution_count": 98,
   "id": "d99504cb-3cd7-41c6-8ce8-7ee5c474493b",
   "metadata": {},
   "outputs": [
    {
     "data": {
      "text/html": [
       "<div>\n",
       "<style scoped>\n",
       "    .dataframe tbody tr th:only-of-type {\n",
       "        vertical-align: middle;\n",
       "    }\n",
       "\n",
       "    .dataframe tbody tr th {\n",
       "        vertical-align: top;\n",
       "    }\n",
       "\n",
       "    .dataframe thead th {\n",
       "        text-align: right;\n",
       "    }\n",
       "</style>\n",
       "<table border=\"1\" class=\"dataframe\">\n",
       "  <thead>\n",
       "    <tr style=\"text-align: right;\">\n",
       "      <th></th>\n",
       "      <th>hits@5_count</th>\n",
       "      <th>hits@10_count</th>\n",
       "      <th>interacted_count</th>\n",
       "      <th>recall@5</th>\n",
       "      <th>recall@10</th>\n",
       "      <th>_user_id</th>\n",
       "    </tr>\n",
       "  </thead>\n",
       "  <tbody>\n",
       "    <tr>\n",
       "      <th>2690</th>\n",
       "      <td>0</td>\n",
       "      <td>0</td>\n",
       "      <td>518</td>\n",
       "      <td>0.000000</td>\n",
       "      <td>0.000000</td>\n",
       "      <td>4568</td>\n",
       "    </tr>\n",
       "    <tr>\n",
       "      <th>2085</th>\n",
       "      <td>3</td>\n",
       "      <td>3</td>\n",
       "      <td>200</td>\n",
       "      <td>0.015000</td>\n",
       "      <td>0.015000</td>\n",
       "      <td>6344</td>\n",
       "    </tr>\n",
       "    <tr>\n",
       "      <th>1364</th>\n",
       "      <td>1</td>\n",
       "      <td>1</td>\n",
       "      <td>196</td>\n",
       "      <td>0.005102</td>\n",
       "      <td>0.005102</td>\n",
       "      <td>376</td>\n",
       "    </tr>\n",
       "    <tr>\n",
       "      <th>726</th>\n",
       "      <td>4</td>\n",
       "      <td>4</td>\n",
       "      <td>167</td>\n",
       "      <td>0.023952</td>\n",
       "      <td>0.023952</td>\n",
       "      <td>17402</td>\n",
       "    </tr>\n",
       "    <tr>\n",
       "      <th>934</th>\n",
       "      <td>5</td>\n",
       "      <td>5</td>\n",
       "      <td>164</td>\n",
       "      <td>0.030488</td>\n",
       "      <td>0.030488</td>\n",
       "      <td>4343</td>\n",
       "    </tr>\n",
       "    <tr>\n",
       "      <th>...</th>\n",
       "      <td>...</td>\n",
       "      <td>...</td>\n",
       "      <td>...</td>\n",
       "      <td>...</td>\n",
       "      <td>...</td>\n",
       "      <td>...</td>\n",
       "    </tr>\n",
       "    <tr>\n",
       "      <th>270</th>\n",
       "      <td>0</td>\n",
       "      <td>0</td>\n",
       "      <td>3</td>\n",
       "      <td>0.000000</td>\n",
       "      <td>0.000000</td>\n",
       "      <td>286908</td>\n",
       "    </tr>\n",
       "    <tr>\n",
       "      <th>1086</th>\n",
       "      <td>0</td>\n",
       "      <td>0</td>\n",
       "      <td>3</td>\n",
       "      <td>0.000000</td>\n",
       "      <td>0.000000</td>\n",
       "      <td>179233</td>\n",
       "    </tr>\n",
       "    <tr>\n",
       "      <th>3240</th>\n",
       "      <td>0</td>\n",
       "      <td>0</td>\n",
       "      <td>3</td>\n",
       "      <td>0.000000</td>\n",
       "      <td>0.000000</td>\n",
       "      <td>274168</td>\n",
       "    </tr>\n",
       "    <tr>\n",
       "      <th>137</th>\n",
       "      <td>0</td>\n",
       "      <td>0</td>\n",
       "      <td>2</td>\n",
       "      <td>0.000000</td>\n",
       "      <td>0.000000</td>\n",
       "      <td>42775</td>\n",
       "    </tr>\n",
       "    <tr>\n",
       "      <th>4232</th>\n",
       "      <td>0</td>\n",
       "      <td>0</td>\n",
       "      <td>2</td>\n",
       "      <td>0.000000</td>\n",
       "      <td>0.000000</td>\n",
       "      <td>134797</td>\n",
       "    </tr>\n",
       "  </tbody>\n",
       "</table>\n",
       "<p>5000 rows × 6 columns</p>\n",
       "</div>"
      ],
      "text/plain": [
       "      hits@5_count  hits@10_count  interacted_count  recall@5  recall@10  \\\n",
       "2690             0              0               518  0.000000   0.000000   \n",
       "2085             3              3               200  0.015000   0.015000   \n",
       "1364             1              1               196  0.005102   0.005102   \n",
       "726              4              4               167  0.023952   0.023952   \n",
       "934              5              5               164  0.030488   0.030488   \n",
       "...            ...            ...               ...       ...        ...   \n",
       "270              0              0                 3  0.000000   0.000000   \n",
       "1086             0              0                 3  0.000000   0.000000   \n",
       "3240             0              0                 3  0.000000   0.000000   \n",
       "137              0              0                 2  0.000000   0.000000   \n",
       "4232             0              0                 2  0.000000   0.000000   \n",
       "\n",
       "      _user_id  \n",
       "2690      4568  \n",
       "2085      6344  \n",
       "1364       376  \n",
       "726      17402  \n",
       "934       4343  \n",
       "...        ...  \n",
       "270     286908  \n",
       "1086    179233  \n",
       "3240    274168  \n",
       "137      42775  \n",
       "4232    134797  \n",
       "\n",
       "[5000 rows x 6 columns]"
      ]
     },
     "execution_count": 98,
     "metadata": {},
     "output_type": "execute_result"
    }
   ],
   "source": [
    "pd.DataFrame(pbr_scores[1])"
   ]
  },
  {
   "cell_type": "markdown",
   "id": "17f27bf9-8bd2-4e49-8bfd-3b7f1e7f755d",
   "metadata": {},
   "source": [
    "La méthode génère quelques hits mais son score reste faible.\n",
    "#### Quelques essais en plus - d'abord sur les données résiduelles : "
   ]
  },
  {
   "cell_type": "code",
   "execution_count": 81,
   "id": "d46efeaa-f739-4875-bd8b-246c65417fa9",
   "metadata": {},
   "outputs": [],
   "source": [
    "from sklearn.model_selection import train_test_split\n",
    "# Filter only users with at most {threshold} interactions : \n",
    "threshold = 3\n",
    "vc = initial_clicks_db.user_id.value_counts()\n",
    "vc = vc[vc<=threshold]\n",
    "ids_with_at_most_n_clicks = vc.index.tolist()\n",
    "lo_initial_clicks_db = initial_clicks_db[initial_clicks_db.user_id.isin(ids_with_at_most_n_clicks)]\n",
    "indexed_clicks = lo_initial_clicks_db.set_index('user_id').sort_index(ascending=True)\n",
    "leftover_dup_list = lo_initial_clicks_db.duplicated(subset=['user_id','click_article_id'])\n",
    "# Split data into train and test sets : \n",
    "train_data, test_data = train_test_split(lo_initial_clicks_db,\n",
    "                                   stratify=lo_initial_clicks_db['user_id'], \n",
    "                                   test_size=0.5,\n",
    "                                   random_state=42)\n",
    "user_indexed_train_data = train_data.set_index('user_id')\n",
    "user_indexed_test_data = test_data.set_index('user_id')"
   ]
  },
  {
   "cell_type": "code",
   "execution_count": 88,
   "id": "c4559832-5b87-4886-b0c7-7c268afee4f6",
   "metadata": {},
   "outputs": [],
   "source": [
    "pbr = PopularityRecommender(train_data, article_features)"
   ]
  },
  {
   "cell_type": "code",
   "execution_count": 89,
   "id": "c59865b8-29c0-4e1c-8f8d-7187e9175333",
   "metadata": {},
   "outputs": [],
   "source": [
    "pbr_model_evaluator = A_ModelEvaluation(indexed_clicks, user_indexed_train_data, user_indexed_test_data, article_features)"
   ]
  },
  {
   "cell_type": "code",
   "execution_count": 90,
   "id": "ddee3753-d4a0-4806-a6e1-067bb3407f39",
   "metadata": {},
   "outputs": [
    {
     "name": "stdout",
     "output_type": "stream",
     "text": [
      "now processing user 124087 of 124088\n"
     ]
    }
   ],
   "source": [
    "pbr_scores = pbr_model_evaluator.evaluate_model(pbr)"
   ]
  },
  {
   "cell_type": "code",
   "execution_count": 91,
   "id": "f324e65c-6df9-41ef-918b-acc1ce54c02e",
   "metadata": {},
   "outputs": [
    {
     "data": {
      "text/plain": [
       "{'modelName': 'Popularity',\n",
       " 'recall@5': 0.17626903365874552,\n",
       " 'recall@10': 0.17626903365874552}"
      ]
     },
     "execution_count": 91,
     "metadata": {},
     "output_type": "execute_result"
    }
   ],
   "source": [
    "pbr_scores[0]"
   ]
  },
  {
   "cell_type": "markdown",
   "id": "6b24c56c-8cec-415c-9f2a-2535a83321a7",
   "metadata": {},
   "source": [
    "#### En seuillant les filtrage à 5 interactions max : "
   ]
  },
  {
   "cell_type": "code",
   "execution_count": 99,
   "id": "ac0b3cd1-a6f6-4f6c-874b-6e2b4e9cfa24",
   "metadata": {},
   "outputs": [],
   "source": [
    "\n",
    "# Filter only users with at most {threshold} interactions : \n",
    "threshold = 5\n",
    "vc = initial_clicks_db.user_id.value_counts()\n",
    "vc = vc[vc<=threshold]\n",
    "ids_with_less_than_n_clicks = vc.index.tolist()\n",
    "lo_initial_clicks_db = initial_clicks_db[initial_clicks_db.user_id.isin(ids_with_less_than_n_clicks)]\n",
    "indexed_clicks = lo_initial_clicks_db.set_index('user_id').sort_index(ascending=True)\n",
    "leftover_dup_list = lo_initial_clicks_db.duplicated(subset=['user_id','click_article_id'])\n",
    "# Split data into train and test sets : \n",
    "train_data, test_data = train_test_split(lo_initial_clicks_db,\n",
    "                                   stratify=lo_initial_clicks_db['user_id'], \n",
    "                                   test_size=0.5,\n",
    "                                   random_state=42)\n",
    "user_indexed_train_data = train_data.set_index('user_id')\n",
    "user_indexed_test_data = test_data.set_index('user_id')"
   ]
  },
  {
   "cell_type": "code",
   "execution_count": 100,
   "id": "7b66409c-b955-415c-8f43-899375c6fc63",
   "metadata": {},
   "outputs": [],
   "source": [
    "pbr = PopularityRecommender(train_data, article_features)"
   ]
  },
  {
   "cell_type": "code",
   "execution_count": 101,
   "id": "73bc0d82-63b1-4255-81a8-f55c25b1533b",
   "metadata": {},
   "outputs": [],
   "source": [
    "pbr_model_evaluator = A_ModelEvaluation(indexed_clicks, user_indexed_train_data, user_indexed_test_data, article_features)"
   ]
  },
  {
   "cell_type": "code",
   "execution_count": 103,
   "id": "2d8cfffa-89c7-4ebd-a4d7-5f5facadf75f",
   "metadata": {},
   "outputs": [
    {
     "name": "stdout",
     "output_type": "stream",
     "text": [
      "now processing user 4999 of 5000\n"
     ]
    }
   ],
   "source": [
    "pbr_scores = pbr_model_evaluator.evaluate_model(pbr, 5000)"
   ]
  },
  {
   "cell_type": "code",
   "execution_count": 104,
   "id": "379bc821-2f70-41bf-9a4e-5d1001cbe4b4",
   "metadata": {},
   "outputs": [
    {
     "data": {
      "text/plain": [
       "{'modelName': 'Popularity',\n",
       " 'recall@5': 0.16718179263838157,\n",
       " 'recall@10': 0.16718179263838157}"
      ]
     },
     "execution_count": 104,
     "metadata": {},
     "output_type": "execute_result"
    }
   ],
   "source": [
    "pbr_scores[0]"
   ]
  },
  {
   "cell_type": "markdown",
   "id": "e04f844b-a107-44ea-be04-965e26f0d6c9",
   "metadata": {},
   "source": [
    "#### Sans filtrer les données : "
   ]
  },
  {
   "cell_type": "code",
   "execution_count": 107,
   "id": "fc4de9fc-24bb-4382-9b9f-5ef9e4c4c932",
   "metadata": {},
   "outputs": [],
   "source": [
    "\n",
    "# Filter only users with at most {threshold} interactions : \n",
    "threshold = 200000\n",
    "vc = initial_clicks_db.user_id.value_counts()\n",
    "vc = vc[vc<=threshold]\n",
    "ids_with_less_than_n_clicks = vc.index.tolist()\n",
    "lo_initial_clicks_db = initial_clicks_db[initial_clicks_db.user_id.isin(ids_with_less_than_n_clicks)]\n",
    "indexed_clicks = lo_initial_clicks_db.set_index('user_id').sort_index(ascending=True)\n",
    "leftover_dup_list = lo_initial_clicks_db.duplicated(subset=['user_id','click_article_id'])\n",
    "# Split data into train and test sets : \n",
    "train_data, test_data = train_test_split(lo_initial_clicks_db,\n",
    "                                   stratify=lo_initial_clicks_db['user_id'], \n",
    "                                   test_size=0.2,\n",
    "                                   random_state=42)\n",
    "user_indexed_train_data = train_data.set_index('user_id')\n",
    "user_indexed_test_data = test_data.set_index('user_id')"
   ]
  },
  {
   "cell_type": "code",
   "execution_count": 108,
   "id": "334914c4-554d-4f0d-873a-21d01483a71d",
   "metadata": {},
   "outputs": [],
   "source": [
    "pbr = PopularityRecommender(train_data, article_features)"
   ]
  },
  {
   "cell_type": "code",
   "execution_count": 109,
   "id": "122e0b92-0e5a-4d1c-91a8-671d3c8a8a49",
   "metadata": {},
   "outputs": [],
   "source": [
    "pbr_model_evaluator = A_ModelEvaluation(indexed_clicks, user_indexed_train_data, user_indexed_test_data, article_features)"
   ]
  },
  {
   "cell_type": "code",
   "execution_count": 110,
   "id": "323c7713-ec7a-44f5-99c2-375518efc940",
   "metadata": {},
   "outputs": [
    {
     "name": "stdout",
     "output_type": "stream",
     "text": [
      "now processing user 4999 of 5000\n"
     ]
    }
   ],
   "source": [
    "pbr_scores = pbr_model_evaluator.evaluate_model(pbr, 5000)"
   ]
  },
  {
   "cell_type": "code",
   "execution_count": 111,
   "id": "2962f2e1-dfc0-47b4-bc65-c5958a41ce7c",
   "metadata": {},
   "outputs": [
    {
     "data": {
      "text/plain": [
       "{'modelName': 'Popularity',\n",
       " 'recall@5': 0.14110566205974143,\n",
       " 'recall@10': 0.14110566205974143}"
      ]
     },
     "execution_count": 111,
     "metadata": {},
     "output_type": "execute_result"
    }
   ],
   "source": [
    "pbr_scores[0]"
   ]
  },
  {
   "cell_type": "code",
   "execution_count": 105,
   "id": "4e60174c-0d96-42d2-be32-2b6a46c1db9d",
   "metadata": {},
   "outputs": [
    {
     "data": {
      "text/html": [
       "<div>\n",
       "<style scoped>\n",
       "    .dataframe tbody tr th:only-of-type {\n",
       "        vertical-align: middle;\n",
       "    }\n",
       "\n",
       "    .dataframe tbody tr th {\n",
       "        vertical-align: top;\n",
       "    }\n",
       "\n",
       "    .dataframe thead th {\n",
       "        text-align: right;\n",
       "    }\n",
       "</style>\n",
       "<table border=\"1\" class=\"dataframe\">\n",
       "  <thead>\n",
       "    <tr style=\"text-align: right;\">\n",
       "      <th></th>\n",
       "      <th>hits@5_count</th>\n",
       "      <th>hits@10_count</th>\n",
       "      <th>interacted_count</th>\n",
       "      <th>recall@5</th>\n",
       "      <th>recall@10</th>\n",
       "      <th>_user_id</th>\n",
       "    </tr>\n",
       "  </thead>\n",
       "  <tbody>\n",
       "    <tr>\n",
       "      <th>4022</th>\n",
       "      <td>1</td>\n",
       "      <td>1</td>\n",
       "      <td>3</td>\n",
       "      <td>0.333333</td>\n",
       "      <td>0.333333</td>\n",
       "      <td>136775</td>\n",
       "    </tr>\n",
       "    <tr>\n",
       "      <th>3453</th>\n",
       "      <td>0</td>\n",
       "      <td>0</td>\n",
       "      <td>3</td>\n",
       "      <td>0.000000</td>\n",
       "      <td>0.000000</td>\n",
       "      <td>99373</td>\n",
       "    </tr>\n",
       "    <tr>\n",
       "      <th>4332</th>\n",
       "      <td>1</td>\n",
       "      <td>1</td>\n",
       "      <td>3</td>\n",
       "      <td>0.333333</td>\n",
       "      <td>0.333333</td>\n",
       "      <td>268090</td>\n",
       "    </tr>\n",
       "    <tr>\n",
       "      <th>1183</th>\n",
       "      <td>1</td>\n",
       "      <td>1</td>\n",
       "      <td>3</td>\n",
       "      <td>0.333333</td>\n",
       "      <td>0.333333</td>\n",
       "      <td>186626</td>\n",
       "    </tr>\n",
       "    <tr>\n",
       "      <th>1185</th>\n",
       "      <td>0</td>\n",
       "      <td>0</td>\n",
       "      <td>3</td>\n",
       "      <td>0.000000</td>\n",
       "      <td>0.000000</td>\n",
       "      <td>21013</td>\n",
       "    </tr>\n",
       "    <tr>\n",
       "      <th>...</th>\n",
       "      <td>...</td>\n",
       "      <td>...</td>\n",
       "      <td>...</td>\n",
       "      <td>...</td>\n",
       "      <td>...</td>\n",
       "      <td>...</td>\n",
       "    </tr>\n",
       "    <tr>\n",
       "      <th>2679</th>\n",
       "      <td>0</td>\n",
       "      <td>0</td>\n",
       "      <td>1</td>\n",
       "      <td>0.000000</td>\n",
       "      <td>0.000000</td>\n",
       "      <td>222363</td>\n",
       "    </tr>\n",
       "    <tr>\n",
       "      <th>2680</th>\n",
       "      <td>0</td>\n",
       "      <td>0</td>\n",
       "      <td>1</td>\n",
       "      <td>0.000000</td>\n",
       "      <td>0.000000</td>\n",
       "      <td>185956</td>\n",
       "    </tr>\n",
       "    <tr>\n",
       "      <th>2682</th>\n",
       "      <td>0</td>\n",
       "      <td>0</td>\n",
       "      <td>1</td>\n",
       "      <td>0.000000</td>\n",
       "      <td>0.000000</td>\n",
       "      <td>248535</td>\n",
       "    </tr>\n",
       "    <tr>\n",
       "      <th>2683</th>\n",
       "      <td>0</td>\n",
       "      <td>0</td>\n",
       "      <td>1</td>\n",
       "      <td>0.000000</td>\n",
       "      <td>0.000000</td>\n",
       "      <td>143261</td>\n",
       "    </tr>\n",
       "    <tr>\n",
       "      <th>2500</th>\n",
       "      <td>0</td>\n",
       "      <td>0</td>\n",
       "      <td>1</td>\n",
       "      <td>0.000000</td>\n",
       "      <td>0.000000</td>\n",
       "      <td>261045</td>\n",
       "    </tr>\n",
       "  </tbody>\n",
       "</table>\n",
       "<p>5000 rows × 6 columns</p>\n",
       "</div>"
      ],
      "text/plain": [
       "      hits@5_count  hits@10_count  interacted_count  recall@5  recall@10  \\\n",
       "4022             1              1                 3  0.333333   0.333333   \n",
       "3453             0              0                 3  0.000000   0.000000   \n",
       "4332             1              1                 3  0.333333   0.333333   \n",
       "1183             1              1                 3  0.333333   0.333333   \n",
       "1185             0              0                 3  0.000000   0.000000   \n",
       "...            ...            ...               ...       ...        ...   \n",
       "2679             0              0                 1  0.000000   0.000000   \n",
       "2680             0              0                 1  0.000000   0.000000   \n",
       "2682             0              0                 1  0.000000   0.000000   \n",
       "2683             0              0                 1  0.000000   0.000000   \n",
       "2500             0              0                 1  0.000000   0.000000   \n",
       "\n",
       "      _user_id  \n",
       "4022    136775  \n",
       "3453     99373  \n",
       "4332    268090  \n",
       "1183    186626  \n",
       "1185     21013  \n",
       "...        ...  \n",
       "2679    222363  \n",
       "2680    185956  \n",
       "2682    248535  \n",
       "2683    143261  \n",
       "2500    261045  \n",
       "\n",
       "[5000 rows x 6 columns]"
      ]
     },
     "execution_count": 105,
     "metadata": {},
     "output_type": "execute_result"
    }
   ],
   "source": [
    "pbr_scores[1]"
   ]
  },
  {
   "cell_type": "markdown",
   "id": "d0ecf32c-3068-4436-81ac-42e27d38603f",
   "metadata": {},
   "source": [
    "Le filtrage par popularité obtient de bons scores pour les utilisateurs ayant peu d'interactions mais des scores faibles sur les utilisateurs ayant des interactions plus nombreuses - Il serait intéressant de définir un système hybride si ce modèle donne de bons résultats sur le grand nombre d'utilisateurs ayant eu moins de 3 ou 5 interactions. "
   ]
  }
 ],
 "metadata": {
  "kernelspec": {
   "display_name": "Python 3",
   "language": "python",
   "name": "python3"
  },
  "language_info": {
   "codemirror_mode": {
    "name": "ipython",
    "version": 3
   },
   "file_extension": ".py",
   "mimetype": "text/x-python",
   "name": "python",
   "nbconvert_exporter": "python",
   "pygments_lexer": "ipython3",
   "version": "3.6.13"
  }
 },
 "nbformat": 4,
 "nbformat_minor": 5
}
